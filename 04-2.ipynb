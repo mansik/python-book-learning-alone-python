{
 "cells": [
  {
   "cell_type": "code",
   "execution_count": 4,
   "id": "66fcd9ef-96ea-482c-8754-f153f220e37d",
   "metadata": {},
   "outputs": [
    {
     "name": "stdout",
     "output_type": "stream",
     "text": [
      "홀수\n"
     ]
    }
   ],
   "source": [
    "last_number = 1\n",
    "if last_number == 1 \\  # if 문의 식에서 줄바꿈은 \\ 이다.\n",
    "    or last_number == 3:\n",
    "    print(\"홀수\")\n",
    "\n"
   ]
  },
  {
   "cell_type": "code",
   "execution_count": 5,
   "id": "7b626c8a-8601-47d3-af4e-aaae67354a71",
   "metadata": {},
   "outputs": [],
   "source": [
    "dict = {\"name\": \"홍길동\", \"age\": 33}"
   ]
  },
  {
   "cell_type": "code",
   "execution_count": 8,
   "id": "8e1b2334-64ef-401c-8e1c-c584a1f9d187",
   "metadata": {},
   "outputs": [
    {
     "name": "stdout",
     "output_type": "stream",
     "text": [
      "홍길동\n"
     ]
    }
   ],
   "source": [
    "# dictionary 내부에 키가 있는지 확인:  키 in dictionary\n",
    "if \"name\" in dict:\n",
    "    print(dict[\"name\"])\n",
    "else:\n",
    "    print(\"없음\")"
   ]
  },
  {
   "cell_type": "code",
   "execution_count": 9,
   "id": "0075dce9-89bd-44d2-8805-28586296c275",
   "metadata": {},
   "outputs": [
    {
     "name": "stdout",
     "output_type": "stream",
     "text": [
      "없음\n"
     ]
    }
   ],
   "source": [
    "if \"홍길동\" in dict:\n",
    "    print(\"name\")\n",
    "else:\n",
    "    print(\"없음\")"
   ]
  },
  {
   "cell_type": "code",
   "execution_count": 11,
   "id": "1e7fbc90-043f-4872-815f-21a3c1867255",
   "metadata": {},
   "outputs": [
    {
     "data": {
      "text/plain": [
       "dict_keys(['name', 'age'])"
      ]
     },
     "execution_count": 11,
     "metadata": {},
     "output_type": "execute_result"
    }
   ],
   "source": [
    "dict.keys()"
   ]
  },
  {
   "cell_type": "code",
   "execution_count": 12,
   "id": "a024bd19-1bf3-4784-916c-10d3906653a0",
   "metadata": {},
   "outputs": [
    {
     "data": {
      "text/plain": [
       "dict_values(['홍길동', 33])"
      ]
     },
     "execution_count": 12,
     "metadata": {},
     "output_type": "execute_result"
    }
   ],
   "source": [
    "dict.values()"
   ]
  },
  {
   "cell_type": "code",
   "execution_count": 13,
   "id": "2542d02b-4d3d-47b6-965c-1346de415876",
   "metadata": {},
   "outputs": [
    {
     "data": {
      "text/plain": [
       "'홍길동'"
      ]
     },
     "execution_count": 13,
     "metadata": {},
     "output_type": "execute_result"
    }
   ],
   "source": [
    "# key가 없으면 None 반환\n",
    "dict.get(\"name\")"
   ]
  },
  {
   "cell_type": "code",
   "execution_count": 14,
   "id": "697807c9-7fdd-4f60-88ae-732526e500e8",
   "metadata": {},
   "outputs": [],
   "source": [
    "dict.get(\"aa\")"
   ]
  },
  {
   "cell_type": "code",
   "execution_count": 15,
   "id": "8d7b7e5b-4a0f-4f8f-977d-dc0face94520",
   "metadata": {},
   "outputs": [],
   "source": [
    "numbers = [1, 2, 6, 8, 4, 3, 2, 1, 9, 5, 4, 9, 7, 2, 1, 3, 5, 4, 8, 9, 7, 2, 3]"
   ]
  },
  {
   "cell_type": "code",
   "execution_count": 16,
   "id": "7308e9a6-f9ff-49f9-a914-6a6e777dd183",
   "metadata": {},
   "outputs": [],
   "source": [
    "counter = {}"
   ]
  },
  {
   "cell_type": "code",
   "execution_count": 17,
   "id": "9c45a182-e97c-4a95-baa5-a71aca7970fc",
   "metadata": {},
   "outputs": [
    {
     "name": "stdout",
     "output_type": "stream",
     "text": [
      "{1: 3, 2: 4, 6: 1, 8: 2, 4: 3, 3: 3, 9: 3, 5: 2, 7: 2}\n"
     ]
    }
   ],
   "source": [
    "# numbers list의 각 요소와 요소별 나온 횟수를  counter의 키와 값으로 나타내기\n",
    "for number in numbers:\n",
    "    if number in counter:\n",
    "        counter[number] = counter[number] + 1\n",
    "    else:\n",
    "        counter[number] = 1\n",
    "        \n",
    "print(counter)"
   ]
  },
  {
   "cell_type": "code",
   "execution_count": 18,
   "id": "fa0ba59a-2763-493b-ad4f-0cf932244578",
   "metadata": {},
   "outputs": [
    {
     "data": {
      "text/plain": [
       "True"
      ]
     },
     "execution_count": 18,
     "metadata": {},
     "output_type": "execute_result"
    }
   ],
   "source": [
    "type(\"문자열\") is str"
   ]
  },
  {
   "cell_type": "code",
   "execution_count": 19,
   "id": "332c02b6-62a0-4048-a2ac-f8719b6170fa",
   "metadata": {},
   "outputs": [
    {
     "data": {
      "text/plain": [
       "True"
      ]
     },
     "execution_count": 19,
     "metadata": {},
     "output_type": "execute_result"
    }
   ],
   "source": [
    "type([]) is list"
   ]
  },
  {
   "cell_type": "code",
   "execution_count": 28,
   "id": "49a0616f-99f2-4c19-81bd-e4bc8ae32ea9",
   "metadata": {},
   "outputs": [
    {
     "data": {
      "text/plain": [
       "False"
      ]
     },
     "execution_count": 28,
     "metadata": {},
     "output_type": "execute_result"
    }
   ],
   "source": [
    "# jupyter notebook에서는 False, VSCode에서는 True\n",
    "type({}) is dict"
   ]
  },
  {
   "cell_type": "code",
   "execution_count": 33,
   "id": "ab199171-01db-451b-8b6c-a94f121e5628",
   "metadata": {},
   "outputs": [
    {
     "data": {
      "text/plain": [
       "False"
      ]
     },
     "execution_count": 33,
     "metadata": {},
     "output_type": "execute_result"
    }
   ],
   "source": [
    "dict1 = {\"name\": 1}\n",
    "type(dict1) is dict"
   ]
  },
  {
   "cell_type": "code",
   "execution_count": 34,
   "id": "5fdb16a8-38da-4a12-9e69-14830109781b",
   "metadata": {},
   "outputs": [
    {
     "data": {
      "text/plain": [
       "dict"
      ]
     },
     "execution_count": 34,
     "metadata": {},
     "output_type": "execute_result"
    }
   ],
   "source": [
    "type(dict1)"
   ]
  },
  {
   "cell_type": "code",
   "execution_count": 35,
   "id": "7f3d2450-ab9f-467f-9148-5bbcc9ebf434",
   "metadata": {},
   "outputs": [],
   "source": [
    "character = {\n",
    "    \"name\": \"기사\",\n",
    "    \"level\": 12,\n",
    "    \"items\": {\n",
    "        \"sword\": \"불꽃의 검\",\n",
    "        \"armor\": \"풀플레이트\"\n",
    "    },\n",
    "    \"skill\": [\"베기\", \"세게 베기\", \"아주 세게 베기\"]    \n",
    "}"
   ]
  },
  {
   "cell_type": "code",
   "execution_count": 47,
   "id": "57a868d6-b195-465b-9041-63160d33bdd2",
   "metadata": {},
   "outputs": [
    {
     "name": "stdout",
     "output_type": "stream",
     "text": [
      "name : 기사\n",
      "level : 12\n",
      "items : {'sword': '불꽃의 검', 'armor': '풀플레이트'}\n",
      "skill : 베기\n",
      "skill : 세게 베기\n",
      "skill : 아주 세게 베기\n"
     ]
    }
   ],
   "source": [
    "for key in character:\n",
    "    if type(character[key]) is dict: # jupyternotebook에서는 False, vscode에서는 True\n",
    "        for small_key in character[key]:\n",
    "            print(small_key , \":\" , character[key][small_key])\n",
    "    elif type(character[key]) is list:\n",
    "        for item in character[key]:\n",
    "            print(key, \":\", item) \n",
    "    else:    \n",
    "        print(key , \":\", character[key])"
   ]
  },
  {
   "cell_type": "code",
   "execution_count": null,
   "id": "246243eb-9f6d-45b7-a123-08f0b9ff0dc9",
   "metadata": {},
   "outputs": [],
   "source": []
  },
  {
   "cell_type": "code",
   "execution_count": null,
   "id": "16d6e9f8-f4fe-4397-903b-a252c692d514",
   "metadata": {},
   "outputs": [],
   "source": []
  }
 ],
 "metadata": {
  "kernelspec": {
   "display_name": "Python 3 (ipykernel)",
   "language": "python",
   "name": "python3"
  },
  "language_info": {
   "codemirror_mode": {
    "name": "ipython",
    "version": 3
   },
   "file_extension": ".py",
   "mimetype": "text/x-python",
   "name": "python",
   "nbconvert_exporter": "python",
   "pygments_lexer": "ipython3",
   "version": "3.9.16"
  }
 },
 "nbformat": 4,
 "nbformat_minor": 5
}
